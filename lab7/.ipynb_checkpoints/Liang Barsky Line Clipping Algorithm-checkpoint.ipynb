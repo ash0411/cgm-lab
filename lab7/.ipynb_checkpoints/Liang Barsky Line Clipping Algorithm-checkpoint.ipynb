{
 "cells": [
  {
   "cell_type": "code",
   "execution_count": 3,
   "metadata": {},
   "outputs": [
    {
     "name": "stdout",
     "output_type": "stream",
     "text": [
      "enter x1 100\n",
      "enter y1 100\n",
      "enter x2 550\n",
      "enter y2350\n",
      "line after clipping:\n"
     ]
    },
    {
     "ename": "GraphicsError",
     "evalue": "getMouse in closed window",
     "output_type": "error",
     "traceback": [
      "\u001b[1;31m---------------------------------------------------------------------------\u001b[0m",
      "\u001b[1;31mGraphicsError\u001b[0m                             Traceback (most recent call last)",
      "\u001b[1;32m<ipython-input-3-2ec940908c79>\u001b[0m in \u001b[0;36m<module>\u001b[1;34m\u001b[0m\n\u001b[0;32m     62\u001b[0m \u001b[1;33m\u001b[0m\u001b[0m\n\u001b[0;32m     63\u001b[0m \u001b[1;33m\u001b[0m\u001b[0m\n\u001b[1;32m---> 64\u001b[1;33m \u001b[0mwin\u001b[0m\u001b[1;33m.\u001b[0m\u001b[0mgetMouse\u001b[0m\u001b[1;33m(\u001b[0m\u001b[1;33m)\u001b[0m\u001b[1;33m\u001b[0m\u001b[1;33m\u001b[0m\u001b[0m\n\u001b[0m\u001b[0;32m     65\u001b[0m \u001b[0mwin\u001b[0m\u001b[1;33m.\u001b[0m\u001b[0mclose\u001b[0m\u001b[1;33m(\u001b[0m\u001b[1;33m)\u001b[0m\u001b[1;33m\u001b[0m\u001b[1;33m\u001b[0m\u001b[0m\n",
      "\u001b[1;32m~\\AppData\\Roaming\\Python\\Python37\\site-packages\\graphics.py\u001b[0m in \u001b[0;36mgetMouse\u001b[1;34m(self)\u001b[0m\n\u001b[0;32m    314\u001b[0m         \u001b[1;32mwhile\u001b[0m \u001b[0mself\u001b[0m\u001b[1;33m.\u001b[0m\u001b[0mmouseX\u001b[0m \u001b[1;33m==\u001b[0m \u001b[1;32mNone\u001b[0m \u001b[1;32mor\u001b[0m \u001b[0mself\u001b[0m\u001b[1;33m.\u001b[0m\u001b[0mmouseY\u001b[0m \u001b[1;33m==\u001b[0m \u001b[1;32mNone\u001b[0m\u001b[1;33m:\u001b[0m\u001b[1;33m\u001b[0m\u001b[1;33m\u001b[0m\u001b[0m\n\u001b[0;32m    315\u001b[0m             \u001b[0mself\u001b[0m\u001b[1;33m.\u001b[0m\u001b[0mupdate\u001b[0m\u001b[1;33m(\u001b[0m\u001b[1;33m)\u001b[0m\u001b[1;33m\u001b[0m\u001b[1;33m\u001b[0m\u001b[0m\n\u001b[1;32m--> 316\u001b[1;33m             \u001b[1;32mif\u001b[0m \u001b[0mself\u001b[0m\u001b[1;33m.\u001b[0m\u001b[0misClosed\u001b[0m\u001b[1;33m(\u001b[0m\u001b[1;33m)\u001b[0m\u001b[1;33m:\u001b[0m \u001b[1;32mraise\u001b[0m \u001b[0mGraphicsError\u001b[0m\u001b[1;33m(\u001b[0m\u001b[1;34m\"getMouse in closed window\"\u001b[0m\u001b[1;33m)\u001b[0m\u001b[1;33m\u001b[0m\u001b[1;33m\u001b[0m\u001b[0m\n\u001b[0m\u001b[0;32m    317\u001b[0m             \u001b[0mtime\u001b[0m\u001b[1;33m.\u001b[0m\u001b[0msleep\u001b[0m\u001b[1;33m(\u001b[0m\u001b[1;36m.1\u001b[0m\u001b[1;33m)\u001b[0m \u001b[1;31m# give up thread\u001b[0m\u001b[1;33m\u001b[0m\u001b[1;33m\u001b[0m\u001b[0m\n\u001b[0;32m    318\u001b[0m         \u001b[0mx\u001b[0m\u001b[1;33m,\u001b[0m\u001b[0my\u001b[0m \u001b[1;33m=\u001b[0m \u001b[0mself\u001b[0m\u001b[1;33m.\u001b[0m\u001b[0mtoWorld\u001b[0m\u001b[1;33m(\u001b[0m\u001b[0mself\u001b[0m\u001b[1;33m.\u001b[0m\u001b[0mmouseX\u001b[0m\u001b[1;33m,\u001b[0m \u001b[0mself\u001b[0m\u001b[1;33m.\u001b[0m\u001b[0mmouseY\u001b[0m\u001b[1;33m)\u001b[0m\u001b[1;33m\u001b[0m\u001b[1;33m\u001b[0m\u001b[0m\n",
      "\u001b[1;31mGraphicsError\u001b[0m: getMouse in closed window"
     ]
    }
   ],
   "source": [
    "from graphics import *\n",
    "win = GraphWin(\"Liang Barsky Line Clipping Algorithm\",1000, 1000)\n",
    "xmin=200\n",
    "ymin=200\n",
    "xmax=450\n",
    "ymax=450\n",
    "rect = Rectangle(Point(xmin, ymin), Point(xmax, ymax))\n",
    "rect.draw(win)\n",
    "\n",
    "x1=int(input(\"enter x1 \"))\n",
    "y1=int(input(\"enter y1 \"))\n",
    "x2=int(input(\"enter x2 \"))\n",
    "y2=int(input(\"enter y2\"))\n",
    "\n",
    "line = Line(Point(x1,y1),Point(x2,y2))\n",
    "line.setFill(\"green\")\n",
    "line.draw(win)\n",
    "\n",
    "dx=x2-x1\n",
    "dy=y2-y1\n",
    "\n",
    "\n",
    "p=[-dx,dx,-dy,dy]\n",
    "q=[x1-xmin , xmax-x1,y1-ymin , ymax-y1]\n",
    "t = [None] * len(p)\n",
    "\n",
    "for i in range(len(p)):\n",
    "    \n",
    "    if (p[i]!=0):\n",
    "        t[i]=float(q[i]/p[i])\n",
    "        \n",
    "    else:\n",
    "        if (p[i]==0 and q[i] < 0):\n",
    "            print(\"line completely outside the window\")\n",
    "        else:\n",
    "            if (p[i]==0 and q[i] >= 0):\n",
    "                print(\"line completely inside the window\")\n",
    "if (t[0] > t[2]):\n",
    "    t1=t[0]\n",
    "    \n",
    "else:\n",
    "    t1=t[2]\n",
    "    \n",
    "if (t[1] < t[3]):\n",
    "    t2=t[1];\n",
    "else:\n",
    "    t2=t[3]\n",
    "    \n",
    "if (t1 < t2):\n",
    "    xx1=x1+t1*dx;\n",
    "    xx2=x1+t2*dx;\n",
    "    yy1=y1+t1*dy;\n",
    "    yy2=y1+t2*dy;\n",
    "    print(\"line after clipping:\")\n",
    "    l=Line(Point(xx1,yy1),Point(xx2,yy2))\n",
    "    l.setFill(\"red\")\n",
    "    l.draw(win)\n",
    "\n",
    "\n",
    "else:\n",
    "    print(\"line lies out of the window\")\n",
    " \n",
    "\n",
    "win.getMouse() \n",
    "win.close()"
   ]
  },
  {
   "cell_type": "code",
   "execution_count": null,
   "metadata": {},
   "outputs": [],
   "source": []
  }
 ],
 "metadata": {
  "kernelspec": {
   "display_name": "Python 3",
   "language": "python",
   "name": "python3"
  },
  "language_info": {
   "codemirror_mode": {
    "name": "ipython",
    "version": 3
   },
   "file_extension": ".py",
   "mimetype": "text/x-python",
   "name": "python",
   "nbconvert_exporter": "python",
   "pygments_lexer": "ipython3",
   "version": "3.6.9"
  }
 },
 "nbformat": 4,
 "nbformat_minor": 2
}
