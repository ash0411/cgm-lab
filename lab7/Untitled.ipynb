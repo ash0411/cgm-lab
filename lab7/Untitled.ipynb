{
 "cells": [
  {
   "cell_type": "code",
   "execution_count": 3,
   "metadata": {},
   "outputs": [
    {
     "ename": "TypeError",
     "evalue": "__init__() missing 1 required positional argument: 'y'",
     "output_type": "error",
     "traceback": [
      "\u001b[0;31m---------------------------------------------------------------------------\u001b[0m",
      "\u001b[0;31mTypeError\u001b[0m                                 Traceback (most recent call last)",
      "\u001b[0;32m<ipython-input-3-8c72a593521c>\u001b[0m in \u001b[0;36m<module>\u001b[0;34m\u001b[0m\n\u001b[1;32m     60\u001b[0m \u001b[0;31m#     return foo\u001b[0m\u001b[0;34m\u001b[0m\u001b[0;34m\u001b[0m\u001b[0;34m\u001b[0m\u001b[0m\n\u001b[1;32m     61\u001b[0m \u001b[0mvertices\u001b[0m \u001b[0;34m=\u001b[0m \u001b[0;34m[\u001b[0m\u001b[0;34m[\u001b[0m\u001b[0;36m10\u001b[0m\u001b[0;34m,\u001b[0m\u001b[0;36m10\u001b[0m\u001b[0;34m]\u001b[0m\u001b[0;34m,\u001b[0m\u001b[0;34m[\u001b[0m\u001b[0;36m50\u001b[0m\u001b[0;34m,\u001b[0m\u001b[0;36m50\u001b[0m\u001b[0;34m]\u001b[0m\u001b[0;34m]\u001b[0m\u001b[0;34m\u001b[0m\u001b[0;34m\u001b[0m\u001b[0m\n\u001b[0;32m---> 62\u001b[0;31m \u001b[0mmain\u001b[0m\u001b[0;34m(\u001b[0m\u001b[0mvertices\u001b[0m\u001b[0;34m)\u001b[0m\u001b[0;34m\u001b[0m\u001b[0;34m\u001b[0m\u001b[0m\n\u001b[0m",
      "\u001b[0;32m<ipython-input-3-8c72a593521c>\u001b[0m in \u001b[0;36mmain\u001b[0;34m(vertices)\u001b[0m\n\u001b[1;32m     11\u001b[0m \u001b[0;34m\u001b[0m\u001b[0m\n\u001b[1;32m     12\u001b[0m     \u001b[0;32mfor\u001b[0m \u001b[0m_\u001b[0m \u001b[0;32min\u001b[0m \u001b[0mrange\u001b[0m\u001b[0;34m(\u001b[0m\u001b[0;36m8\u001b[0m\u001b[0;34m)\u001b[0m\u001b[0;34m:\u001b[0m\u001b[0;34m\u001b[0m\u001b[0;34m\u001b[0m\u001b[0m\n\u001b[0;32m---> 13\u001b[0;31m         \u001b[0mfigure\u001b[0m \u001b[0;34m=\u001b[0m \u001b[0mRectangle\u001b[0m\u001b[0;34m(\u001b[0m\u001b[0mPoint\u001b[0m\u001b[0;34m(\u001b[0m\u001b[0mvertices\u001b[0m\u001b[0;34m[\u001b[0m\u001b[0;36m0\u001b[0m\u001b[0;34m]\u001b[0m\u001b[0;34m)\u001b[0m\u001b[0;34m,\u001b[0m\u001b[0mPoint\u001b[0m\u001b[0;34m(\u001b[0m\u001b[0mvertices\u001b[0m\u001b[0;34m[\u001b[0m\u001b[0;36m1\u001b[0m\u001b[0;34m]\u001b[0m\u001b[0;34m)\u001b[0m\u001b[0;34m)\u001b[0m\u001b[0;34m\u001b[0m\u001b[0;34m\u001b[0m\u001b[0m\n\u001b[0m\u001b[1;32m     14\u001b[0m         \u001b[0mfigure\u001b[0m \u001b[0;34m=\u001b[0m \u001b[0mrotatePolygon\u001b[0m\u001b[0;34m(\u001b[0m\u001b[0mfigure\u001b[0m\u001b[0;34m,\u001b[0m \u001b[0mrandint\u001b[0m\u001b[0;34m(\u001b[0m\u001b[0;36m0\u001b[0m\u001b[0;34m,\u001b[0m \u001b[0;36m90\u001b[0m\u001b[0;34m)\u001b[0m\u001b[0;34m,\u001b[0m\u001b[0mvertices\u001b[0m\u001b[0;34m)\u001b[0m\u001b[0;34m\u001b[0m\u001b[0;34m\u001b[0m\u001b[0m\n\u001b[1;32m     15\u001b[0m         \u001b[0mfigure\u001b[0m\u001b[0;34m.\u001b[0m\u001b[0mdraw\u001b[0m\u001b[0;34m(\u001b[0m\u001b[0mwin\u001b[0m\u001b[0;34m)\u001b[0m\u001b[0;34m\u001b[0m\u001b[0;34m\u001b[0m\u001b[0m\n",
      "\u001b[0;31mTypeError\u001b[0m: __init__() missing 1 required positional argument: 'y'"
     ]
    }
   ],
   "source": [
    "\n",
    "from graphics import *\n",
    "from random import randint\n",
    "from math import sin, cos, radians\n",
    "\n",
    "image_height = 1000\n",
    "image_height = 1000\n",
    "\n",
    "def main(vertices):\n",
    "    win = GraphWin(\"Window\", image_height, image_height)\n",
    "    win.setBackground(color_rgb(255, 255, 255))\n",
    "\n",
    "    for _ in range(8):\n",
    "        figure = Rectangle(Point(vertices[0]),Point(vertices[1]))\n",
    "        figure = rotatePolygon(figure, randint(0, 90),vertices)\n",
    "        figure.draw(win)\n",
    "    try:\n",
    "        win.getMouse()  # causes graphics.GraphicsError: getMouse in closed window\n",
    "    except GraphicsError:  # ignore error\n",
    "        pass\n",
    "    win.close()\n",
    "\n",
    "def rotatePolygon(polygon, degrees,points):\n",
    "    \"\"\" Rotate polygon the given angle about its center. \"\"\"\n",
    "    theta = radians(degrees)  # Convert angle to radians\n",
    "    cosang, sinang = cos(theta), sin(theta)\n",
    "    # find center point of Polygon to use as pivot\n",
    "    n = len(points)\n",
    "    cx = sum(p.getX() for p in points) / n\n",
    "    cy = sum(p.getY() for p in points) / n\n",
    "\n",
    "    new_points = []\n",
    "    for p in points:\n",
    "        x, y = p.getX(), p.getY()\n",
    "        tx, ty = x-cx, y-cy\n",
    "        new_x = ( tx*cosang + ty*sinang) + cx\n",
    "        new_y = (-tx*sinang + ty*cosang) + cy\n",
    "        new_points.append(Point(new_x, new_y))\n",
    "\n",
    "    rotated_ploygon = polygon.clone()  # clone to get current attributes\n",
    "    rotated_ploygon.points = new_points\n",
    "    return rotated_ploygon\n",
    "\n",
    "# def drawahexagon(length):\n",
    "#     x = randint(0, image_height-length)\n",
    "#     y = randint(0, image_height-length)\n",
    "#     poly = Polygon(Point(x+getRandom(0), y+getRandom(0)),\n",
    "#                    Point(x+length+getRandom(1), y+getRandom(1)),\n",
    "#                    Point(x+(length*1.5)+getRandom(0), y+(length/2)+getRandom(1)),\n",
    "#                    Point(x+length+getRandom(1), y+length+getRandom(1)),\n",
    "#                    Point(x+getRandom(0), y+length+getRandom(1)),\n",
    "#                    Point(x-(length/2)+getRandom(1), y+(length/2)+getRandom(0)))\n",
    "#     poly.setFill(color_rgb(255, 0, 0))\n",
    "#     return poly\n",
    "\n",
    "# def getRandom(base):\n",
    "#     if base == 0:\n",
    "#         foo = randint(0, 5)\n",
    "#     else:\n",
    "#         foo = randint(3, 10)\n",
    "#     return foo\n",
    "vertices = [[10,10],[50,50]]\n",
    "main(vertices)"
   ]
  },
  {
   "cell_type": "code",
   "execution_count": null,
   "metadata": {},
   "outputs": [],
   "source": []
  }
 ],
 "metadata": {
  "kernelspec": {
   "display_name": "Python 3",
   "language": "python",
   "name": "python3"
  },
  "language_info": {
   "codemirror_mode": {
    "name": "ipython",
    "version": 3
   },
   "file_extension": ".py",
   "mimetype": "text/x-python",
   "name": "python",
   "nbconvert_exporter": "python",
   "pygments_lexer": "ipython3",
   "version": "3.6.9"
  }
 },
 "nbformat": 4,
 "nbformat_minor": 4
}
