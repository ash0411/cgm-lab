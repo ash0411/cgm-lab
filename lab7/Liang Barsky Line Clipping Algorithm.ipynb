{
 "cells": [
  {
   "cell_type": "code",
   "execution_count": 3,
   "metadata": {},
   "outputs": [
    {
     "name": "stdout",
     "output_type": "stream",
     "text": [
      "enter x1 180\n",
      "enter y1 210\n",
      "enter x2 260\n",
      "enter y2260\n",
      "line after clipping:\n"
     ]
    }
   ],
   "source": [
    "from graphics import *\n",
    "win = GraphWin(\"Liang Barsky Line Clipping Algorithm\",1000, 1000)\n",
    "xmin=200\n",
    "ymin=200\n",
    "xmax=450\n",
    "ymax=450\n",
    "rect = Rectangle(Point(xmin, ymin), Point(xmax, ymax))\n",
    "rect.draw(win)\n",
    "\n",
    "x1=int(input(\"enter x1 \"))\n",
    "y1=int(input(\"enter y1 \"))\n",
    "x2=int(input(\"enter x2 \"))\n",
    "y2=int(input(\"enter y2\"))\n",
    "\n",
    "line = Line(Point(x1,y1),Point(x2,y2))\n",
    "line.setFill(\"green\")\n",
    "line.draw(win)\n",
    "\n",
    "dx=x2-x1\n",
    "dy=y2-y1\n",
    "\n",
    "\n",
    "p=[-dx,dx,-dy,dy]\n",
    "q=[x1-xmin , xmax-x1,y1-ymin , ymax-y1]\n",
    "t = [None] * len(p)\n",
    "\n",
    "for i in range(len(p)):\n",
    "    \n",
    "    if (p[i]!=0):\n",
    "        t[i]=float(q[i]/p[i])\n",
    "        \n",
    "    else:\n",
    "        if (p[i]==0 and q[i] < 0):\n",
    "            print(\"line completely outside the window\")\n",
    "        else:\n",
    "            if (p[i]==0 and q[i] >= 0):\n",
    "                print(\"line completely inside the window\")\n",
    "if (t[0] > t[2]):\n",
    "    t1=t[0]\n",
    "    \n",
    "else:\n",
    "    t1=t[2]\n",
    "    \n",
    "if (t[1] < t[3]):\n",
    "    t2=t[1];\n",
    "else:\n",
    "    t2=t[3]\n",
    "    \n",
    "if (t1 < t2):\n",
    "    xx1=x1+t1*dx;\n",
    "    xx2=x1+t2*dx;\n",
    "    yy1=y1+t1*dy;\n",
    "    yy2=y1+t2*dy;\n",
    "    print(\"line after clipping:\")\n",
    "    l=Line(Point(xx1,yy1),Point(xx2,yy2))\n",
    "    l.setFill(\"red\")\n",
    "    l.draw(win)\n",
    "\n",
    "\n",
    "else:\n",
    "    print(\"line lies out of the window\")\n",
    " \n",
    "try:\n",
    "    win.getMouse()\n",
    "except GraphicsError:\n",
    "    pass\n",
    "win.close()"
   ]
  },
  {
   "cell_type": "code",
   "execution_count": null,
   "metadata": {},
   "outputs": [],
   "source": []
  }
 ],
 "metadata": {
  "kernelspec": {
   "display_name": "Python 3",
   "language": "python",
   "name": "python3"
  },
  "language_info": {
   "codemirror_mode": {
    "name": "ipython",
    "version": 3
   },
   "file_extension": ".py",
   "mimetype": "text/x-python",
   "name": "python",
   "nbconvert_exporter": "python",
   "pygments_lexer": "ipython3",
   "version": "3.6.9"
  }
 },
 "nbformat": 4,
 "nbformat_minor": 2
}
